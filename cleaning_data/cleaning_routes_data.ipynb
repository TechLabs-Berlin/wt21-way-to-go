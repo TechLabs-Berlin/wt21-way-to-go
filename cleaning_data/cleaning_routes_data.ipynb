{
  "cells": [
    {
      "cell_type": "code",
      "execution_count": 1,
      "metadata": {
        "colab": {
          "base_uri": "https://localhost:8080/"
        },
        "id": "awN5lWMNzDo6",
        "outputId": "519f87b6-618d-440c-f564-c31beffcb5e4"
      },
      "outputs": [],
      "source": [
        "import pandas as pd"
      ]
    },
    {
      "cell_type": "code",
      "execution_count": 2,
      "metadata": {},
      "outputs": [],
      "source": [
        "pd.set_option(\"display.max_columns\", 100)\n",
        "pd.set_option(\"display.max_rows\", 100)"
      ]
    },
    {
      "cell_type": "code",
      "execution_count": 3,
      "metadata": {},
      "outputs": [
        {
          "data": {
            "text/html": [
              "<div>\n",
              "<style scoped>\n",
              "    .dataframe tbody tr th:only-of-type {\n",
              "        vertical-align: middle;\n",
              "    }\n",
              "\n",
              "    .dataframe tbody tr th {\n",
              "        vertical-align: top;\n",
              "    }\n",
              "\n",
              "    .dataframe thead th {\n",
              "        text-align: right;\n",
              "    }\n",
              "</style>\n",
              "<table border=\"1\" class=\"dataframe\">\n",
              "  <thead>\n",
              "    <tr style=\"text-align: right;\">\n",
              "      <th></th>\n",
              "      <th>route_id</th>\n",
              "      <th>num_of_waypoint</th>\n",
              "      <th>lat_lgt</th>\n",
              "      <th>latitude</th>\n",
              "      <th>longitude</th>\n",
              "    </tr>\n",
              "  </thead>\n",
              "  <tbody>\n",
              "    <tr>\n",
              "      <th>0</th>\n",
              "      <td>1000303.gpx</td>\n",
              "      <td>0</td>\n",
              "      <td>('38.29842', '-2.65105')</td>\n",
              "      <td>38.29842</td>\n",
              "      <td>-2.65105</td>\n",
              "    </tr>\n",
              "    <tr>\n",
              "      <th>1</th>\n",
              "      <td>1000303.gpx</td>\n",
              "      <td>1</td>\n",
              "      <td>('38.29647', '-2.65079')</td>\n",
              "      <td>38.29647</td>\n",
              "      <td>-2.65079</td>\n",
              "    </tr>\n",
              "    <tr>\n",
              "      <th>2</th>\n",
              "      <td>1000303.gpx</td>\n",
              "      <td>2</td>\n",
              "      <td>('38.29418', '-2.65011')</td>\n",
              "      <td>38.29418</td>\n",
              "      <td>-2.65011</td>\n",
              "    </tr>\n",
              "    <tr>\n",
              "      <th>3</th>\n",
              "      <td>1000303.gpx</td>\n",
              "      <td>3</td>\n",
              "      <td>('38.29499', '-2.65174')</td>\n",
              "      <td>38.29499</td>\n",
              "      <td>-2.65174</td>\n",
              "    </tr>\n",
              "    <tr>\n",
              "      <th>4</th>\n",
              "      <td>1000303.gpx</td>\n",
              "      <td>4</td>\n",
              "      <td>('38.29674', '-2.65174')</td>\n",
              "      <td>38.29674</td>\n",
              "      <td>-2.65174</td>\n",
              "    </tr>\n",
              "    <tr>\n",
              "      <th>...</th>\n",
              "      <td>...</td>\n",
              "      <td>...</td>\n",
              "      <td>...</td>\n",
              "      <td>...</td>\n",
              "      <td>...</td>\n",
              "    </tr>\n",
              "    <tr>\n",
              "      <th>14486915</th>\n",
              "      <td>99997.gpx</td>\n",
              "      <td>60</td>\n",
              "      <td>('48.27417', '16.33581')</td>\n",
              "      <td>48.27417</td>\n",
              "      <td>16.33581</td>\n",
              "    </tr>\n",
              "    <tr>\n",
              "      <th>14486916</th>\n",
              "      <td>99997.gpx</td>\n",
              "      <td>61</td>\n",
              "      <td>('48.27445', '16.33493')</td>\n",
              "      <td>48.27445</td>\n",
              "      <td>16.33493</td>\n",
              "    </tr>\n",
              "    <tr>\n",
              "      <th>14486917</th>\n",
              "      <td>99997.gpx</td>\n",
              "      <td>62</td>\n",
              "      <td>('48.27461', '16.33503')</td>\n",
              "      <td>48.27461</td>\n",
              "      <td>16.33503</td>\n",
              "    </tr>\n",
              "    <tr>\n",
              "      <th>14486918</th>\n",
              "      <td>99997.gpx</td>\n",
              "      <td>63</td>\n",
              "      <td>('48.27464', '16.33575')</td>\n",
              "      <td>48.27464</td>\n",
              "      <td>16.33575</td>\n",
              "    </tr>\n",
              "    <tr>\n",
              "      <th>14486919</th>\n",
              "      <td>99997.gpx</td>\n",
              "      <td>64</td>\n",
              "      <td>('48.27459', '16.33597')</td>\n",
              "      <td>48.27459</td>\n",
              "      <td>16.33597</td>\n",
              "    </tr>\n",
              "  </tbody>\n",
              "</table>\n",
              "<p>14486920 rows × 5 columns</p>\n",
              "</div>"
            ],
            "text/plain": [
              "             route_id  num_of_waypoint                   lat_lgt  latitude  \\\n",
              "0         1000303.gpx                0  ('38.29842', '-2.65105')  38.29842   \n",
              "1         1000303.gpx                1  ('38.29647', '-2.65079')  38.29647   \n",
              "2         1000303.gpx                2  ('38.29418', '-2.65011')  38.29418   \n",
              "3         1000303.gpx                3  ('38.29499', '-2.65174')  38.29499   \n",
              "4         1000303.gpx                4  ('38.29674', '-2.65174')  38.29674   \n",
              "...               ...              ...                       ...       ...   \n",
              "14486915    99997.gpx               60  ('48.27417', '16.33581')  48.27417   \n",
              "14486916    99997.gpx               61  ('48.27445', '16.33493')  48.27445   \n",
              "14486917    99997.gpx               62  ('48.27461', '16.33503')  48.27461   \n",
              "14486918    99997.gpx               63  ('48.27464', '16.33575')  48.27464   \n",
              "14486919    99997.gpx               64  ('48.27459', '16.33597')  48.27459   \n",
              "\n",
              "          longitude  \n",
              "0          -2.65105  \n",
              "1          -2.65079  \n",
              "2          -2.65011  \n",
              "3          -2.65174  \n",
              "4          -2.65174  \n",
              "...             ...  \n",
              "14486915   16.33581  \n",
              "14486916   16.33493  \n",
              "14486917   16.33503  \n",
              "14486918   16.33575  \n",
              "14486919   16.33597  \n",
              "\n",
              "[14486920 rows x 5 columns]"
            ]
          },
          "execution_count": 3,
          "metadata": {},
          "output_type": "execute_result"
        }
      ],
      "source": [
        "df = pd.read_csv(r'parsed_routes_data\\all_routes_data.csv') #real dataset\n",
        "#df = pd.read_csv(r'parsed_routes_data\\first_bulk_of_routes_data.csv') # small sample dataset for testing\n",
        "df.rename(columns={'Unnamed: 0': 'route_id', 'Unnamed: 1': 'num_of_waypoint'}, inplace=True)\n",
        "df"
      ]
    },
    {
      "cell_type": "code",
      "execution_count": 4,
      "metadata": {},
      "outputs": [],
      "source": [
        "#converting str values from 'routes_id' (that is going to become an index) into ints\n",
        "df['route_id'] = df['route_id'].str.split('.').str[0].astype(int)\n",
        "\n",
        "#converting str values from 'num_of_waypoint' (that is going to become column names) into ints\n",
        "df['num_of_waypoint'] = df['num_of_waypoint'].astype(int)"
      ]
    },
    {
      "cell_type": "code",
      "execution_count": 5,
      "metadata": {},
      "outputs": [
        {
          "ename": "ValueError",
          "evalue": "Unstacked DataFrame is too big, causing int32 overflow",
          "output_type": "error",
          "traceback": [
            "\u001b[1;31m---------------------------------------------------------------------------\u001b[0m",
            "\u001b[1;31mValueError\u001b[0m                                Traceback (most recent call last)",
            "\u001b[1;32mC:\\Users\\INA~1.SCH\\AppData\\Local\\Temp/ipykernel_11840/949211704.py\u001b[0m in \u001b[0;36m<module>\u001b[1;34m\u001b[0m\n\u001b[0;32m      3\u001b[0m \u001b[1;31m#pip install pandas==0.21\u001b[0m\u001b[1;33m\u001b[0m\u001b[1;33m\u001b[0m\u001b[0m\n\u001b[0;32m      4\u001b[0m \u001b[1;31m#import pandas as pd\u001b[0m\u001b[1;33m\u001b[0m\u001b[1;33m\u001b[0m\u001b[0m\n\u001b[1;32m----> 5\u001b[1;33m \u001b[0mdf_reshaped\u001b[0m \u001b[1;33m=\u001b[0m \u001b[0mdf\u001b[0m\u001b[1;33m.\u001b[0m\u001b[0mpivot\u001b[0m\u001b[1;33m(\u001b[0m\u001b[0mindex\u001b[0m\u001b[1;33m=\u001b[0m\u001b[1;34m'route_id'\u001b[0m\u001b[1;33m,\u001b[0m \u001b[0mcolumns\u001b[0m\u001b[1;33m=\u001b[0m\u001b[1;34m'num_of_waypoint'\u001b[0m\u001b[1;33m,\u001b[0m \u001b[0mvalues\u001b[0m\u001b[1;33m=\u001b[0m\u001b[1;34m'lat_lgt'\u001b[0m\u001b[1;33m)\u001b[0m\u001b[1;33m\u001b[0m\u001b[1;33m\u001b[0m\u001b[0m\n\u001b[0m\u001b[0;32m      6\u001b[0m \u001b[1;31m#pip install pandas\u001b[0m\u001b[1;33m\u001b[0m\u001b[1;33m\u001b[0m\u001b[0m\n\u001b[0;32m      7\u001b[0m \u001b[1;33m\u001b[0m\u001b[0m\n",
            "\u001b[1;32m~\\AppData\\Local\\Programs\\Python\\Python310\\lib\\site-packages\\pandas\\core\\frame.py\u001b[0m in \u001b[0;36mpivot\u001b[1;34m(self, index, columns, values)\u001b[0m\n\u001b[0;32m   7791\u001b[0m         \u001b[1;32mfrom\u001b[0m \u001b[0mpandas\u001b[0m\u001b[1;33m.\u001b[0m\u001b[0mcore\u001b[0m\u001b[1;33m.\u001b[0m\u001b[0mreshape\u001b[0m\u001b[1;33m.\u001b[0m\u001b[0mpivot\u001b[0m \u001b[1;32mimport\u001b[0m \u001b[0mpivot\u001b[0m\u001b[1;33m\u001b[0m\u001b[1;33m\u001b[0m\u001b[0m\n\u001b[0;32m   7792\u001b[0m \u001b[1;33m\u001b[0m\u001b[0m\n\u001b[1;32m-> 7793\u001b[1;33m         \u001b[1;32mreturn\u001b[0m \u001b[0mpivot\u001b[0m\u001b[1;33m(\u001b[0m\u001b[0mself\u001b[0m\u001b[1;33m,\u001b[0m \u001b[0mindex\u001b[0m\u001b[1;33m=\u001b[0m\u001b[0mindex\u001b[0m\u001b[1;33m,\u001b[0m \u001b[0mcolumns\u001b[0m\u001b[1;33m=\u001b[0m\u001b[0mcolumns\u001b[0m\u001b[1;33m,\u001b[0m \u001b[0mvalues\u001b[0m\u001b[1;33m=\u001b[0m\u001b[0mvalues\u001b[0m\u001b[1;33m)\u001b[0m\u001b[1;33m\u001b[0m\u001b[1;33m\u001b[0m\u001b[0m\n\u001b[0m\u001b[0;32m   7794\u001b[0m \u001b[1;33m\u001b[0m\u001b[0m\n\u001b[0;32m   7795\u001b[0m     _shared_docs[\n",
            "\u001b[1;32m~\\AppData\\Local\\Programs\\Python\\Python310\\lib\\site-packages\\pandas\\core\\reshape\\pivot.py\u001b[0m in \u001b[0;36mpivot\u001b[1;34m(data, index, columns, values)\u001b[0m\n\u001b[0;32m    515\u001b[0m         \u001b[1;32melse\u001b[0m\u001b[1;33m:\u001b[0m\u001b[1;33m\u001b[0m\u001b[1;33m\u001b[0m\u001b[0m\n\u001b[0;32m    516\u001b[0m             \u001b[0mindexed\u001b[0m \u001b[1;33m=\u001b[0m \u001b[0mdata\u001b[0m\u001b[1;33m.\u001b[0m\u001b[0m_constructor_sliced\u001b[0m\u001b[1;33m(\u001b[0m\u001b[0mdata\u001b[0m\u001b[1;33m[\u001b[0m\u001b[0mvalues\u001b[0m\u001b[1;33m]\u001b[0m\u001b[1;33m.\u001b[0m\u001b[0m_values\u001b[0m\u001b[1;33m,\u001b[0m \u001b[0mindex\u001b[0m\u001b[1;33m=\u001b[0m\u001b[0mmultiindex\u001b[0m\u001b[1;33m)\u001b[0m\u001b[1;33m\u001b[0m\u001b[1;33m\u001b[0m\u001b[0m\n\u001b[1;32m--> 517\u001b[1;33m     \u001b[1;32mreturn\u001b[0m \u001b[0mindexed\u001b[0m\u001b[1;33m.\u001b[0m\u001b[0munstack\u001b[0m\u001b[1;33m(\u001b[0m\u001b[0mcolumns_listlike\u001b[0m\u001b[1;33m)\u001b[0m\u001b[1;33m\u001b[0m\u001b[1;33m\u001b[0m\u001b[0m\n\u001b[0m\u001b[0;32m    518\u001b[0m \u001b[1;33m\u001b[0m\u001b[0m\n\u001b[0;32m    519\u001b[0m \u001b[1;33m\u001b[0m\u001b[0m\n",
            "\u001b[1;32m~\\AppData\\Local\\Programs\\Python\\Python310\\lib\\site-packages\\pandas\\core\\series.py\u001b[0m in \u001b[0;36munstack\u001b[1;34m(self, level, fill_value)\u001b[0m\n\u001b[0;32m   4079\u001b[0m         \u001b[1;32mfrom\u001b[0m \u001b[0mpandas\u001b[0m\u001b[1;33m.\u001b[0m\u001b[0mcore\u001b[0m\u001b[1;33m.\u001b[0m\u001b[0mreshape\u001b[0m\u001b[1;33m.\u001b[0m\u001b[0mreshape\u001b[0m \u001b[1;32mimport\u001b[0m \u001b[0munstack\u001b[0m\u001b[1;33m\u001b[0m\u001b[1;33m\u001b[0m\u001b[0m\n\u001b[0;32m   4080\u001b[0m \u001b[1;33m\u001b[0m\u001b[0m\n\u001b[1;32m-> 4081\u001b[1;33m         \u001b[1;32mreturn\u001b[0m \u001b[0munstack\u001b[0m\u001b[1;33m(\u001b[0m\u001b[0mself\u001b[0m\u001b[1;33m,\u001b[0m \u001b[0mlevel\u001b[0m\u001b[1;33m,\u001b[0m \u001b[0mfill_value\u001b[0m\u001b[1;33m)\u001b[0m\u001b[1;33m\u001b[0m\u001b[1;33m\u001b[0m\u001b[0m\n\u001b[0m\u001b[0;32m   4082\u001b[0m \u001b[1;33m\u001b[0m\u001b[0m\n\u001b[0;32m   4083\u001b[0m     \u001b[1;31m# ----------------------------------------------------------------------\u001b[0m\u001b[1;33m\u001b[0m\u001b[1;33m\u001b[0m\u001b[0m\n",
            "\u001b[1;32m~\\AppData\\Local\\Programs\\Python\\Python310\\lib\\site-packages\\pandas\\core\\reshape\\reshape.py\u001b[0m in \u001b[0;36munstack\u001b[1;34m(obj, level, fill_value)\u001b[0m\n\u001b[0;32m    458\u001b[0m         \u001b[1;32mif\u001b[0m \u001b[0mis_1d_only_ea_dtype\u001b[0m\u001b[1;33m(\u001b[0m\u001b[0mobj\u001b[0m\u001b[1;33m.\u001b[0m\u001b[0mdtype\u001b[0m\u001b[1;33m)\u001b[0m\u001b[1;33m:\u001b[0m\u001b[1;33m\u001b[0m\u001b[1;33m\u001b[0m\u001b[0m\n\u001b[0;32m    459\u001b[0m             \u001b[1;32mreturn\u001b[0m \u001b[0m_unstack_extension_series\u001b[0m\u001b[1;33m(\u001b[0m\u001b[0mobj\u001b[0m\u001b[1;33m,\u001b[0m \u001b[0mlevel\u001b[0m\u001b[1;33m,\u001b[0m \u001b[0mfill_value\u001b[0m\u001b[1;33m)\u001b[0m\u001b[1;33m\u001b[0m\u001b[1;33m\u001b[0m\u001b[0m\n\u001b[1;32m--> 460\u001b[1;33m         unstacker = _Unstacker(\n\u001b[0m\u001b[0;32m    461\u001b[0m             \u001b[0mobj\u001b[0m\u001b[1;33m.\u001b[0m\u001b[0mindex\u001b[0m\u001b[1;33m,\u001b[0m \u001b[0mlevel\u001b[0m\u001b[1;33m=\u001b[0m\u001b[0mlevel\u001b[0m\u001b[1;33m,\u001b[0m \u001b[0mconstructor\u001b[0m\u001b[1;33m=\u001b[0m\u001b[0mobj\u001b[0m\u001b[1;33m.\u001b[0m\u001b[0m_constructor_expanddim\u001b[0m\u001b[1;33m\u001b[0m\u001b[1;33m\u001b[0m\u001b[0m\n\u001b[0;32m    462\u001b[0m         )\n",
            "\u001b[1;32m~\\AppData\\Local\\Programs\\Python\\Python310\\lib\\site-packages\\pandas\\core\\reshape\\reshape.py\u001b[0m in \u001b[0;36m__init__\u001b[1;34m(self, index, level, constructor)\u001b[0m\n\u001b[0;32m    129\u001b[0m \u001b[1;33m\u001b[0m\u001b[0m\n\u001b[0;32m    130\u001b[0m         \u001b[1;32mif\u001b[0m \u001b[0mnum_rows\u001b[0m \u001b[1;33m>\u001b[0m \u001b[1;36m0\u001b[0m \u001b[1;32mand\u001b[0m \u001b[0mnum_columns\u001b[0m \u001b[1;33m>\u001b[0m \u001b[1;36m0\u001b[0m \u001b[1;32mand\u001b[0m \u001b[0mnum_cells\u001b[0m \u001b[1;33m<=\u001b[0m \u001b[1;36m0\u001b[0m\u001b[1;33m:\u001b[0m\u001b[1;33m\u001b[0m\u001b[1;33m\u001b[0m\u001b[0m\n\u001b[1;32m--> 131\u001b[1;33m             \u001b[1;32mraise\u001b[0m \u001b[0mValueError\u001b[0m\u001b[1;33m(\u001b[0m\u001b[1;34m\"Unstacked DataFrame is too big, causing int32 overflow\"\u001b[0m\u001b[1;33m)\u001b[0m\u001b[1;33m\u001b[0m\u001b[1;33m\u001b[0m\u001b[0m\n\u001b[0m\u001b[0;32m    132\u001b[0m \u001b[1;33m\u001b[0m\u001b[0m\n\u001b[0;32m    133\u001b[0m         \u001b[0mself\u001b[0m\u001b[1;33m.\u001b[0m\u001b[0m_make_selectors\u001b[0m\u001b[1;33m(\u001b[0m\u001b[1;33m)\u001b[0m\u001b[1;33m\u001b[0m\u001b[1;33m\u001b[0m\u001b[0m\n",
            "\u001b[1;31mValueError\u001b[0m: Unstacked DataFrame is too big, causing int32 overflow"
          ]
        }
      ],
      "source": [
        "#reshaping df from long format to wide format\n",
        "\n",
        "#pip install pandas==0.21\n",
        "#import pandas as pd\n",
        "df_reshaped = df.pivot(index='route_id', columns='num_of_waypoint', values='lat_lgt')\n",
        "#pip install pandas\n",
        "\n",
        "df_reshaped"
      ]
    },
    {
      "cell_type": "code",
      "execution_count": null,
      "metadata": {},
      "outputs": [
        {
          "data": {
            "text/plain": [
              "(1698, 1000)"
            ]
          },
          "execution_count": 7,
          "metadata": {},
          "output_type": "execute_result"
        }
      ],
      "source": [
        "#exploring the new shape\n",
        "df_reshaped.shape # --> (1830, 29852) (smaller size sample)\n",
        "\n",
        "#since the df now has 29852 columns, I want to verify, if the longest route really has 29852 waypoints or if something went wrong\n",
        "df['num_of_waypoint'].max()\n",
        "\n",
        "#finding out which route has that many waypoints, because I want to have a look into the original gps file\n",
        "df.sort_values(by = 'num_of_waypoint', ascending = False) #--> it's 2825871.gpx (that hypercorrect documentation of a file should be excluded)\n",
        "\n",
        "#exploring the distribution of the total number of waypoints per route a bit more\n",
        "routes_grp = df.groupby(['route_id'])\n",
        "routes_grp['num_of_waypoint'].max().median() #--> median of total waypoints per route is 252 (smaller size sample)\n",
        "routes_grp['num_of_waypoint'].max().describe() #--> 75% is at 507 total waypoints: by including 1000 columns I will cover most of the routes and exclude outliers\n",
        "\n",
        "#dropping rows with more than 1000 waypoints from df_reshaped\n",
        "df_reshaped[1000].isna().value_counts() #verifing not too many routes would be deteled\n",
        "df_reshaped = df_reshaped[df_reshaped[1000].isna()]\n",
        "\n",
        "#dropping every column with only NaN values in it (= columns 1000 and higher)\n",
        "df_reshaped.isnull().sum(axis=0).value_counts() #verifing that it's column 0-999 that stay\n",
        "df_reshaped = df_reshaped.dropna(axis=1, how='all')\n",
        "df_reshaped.shape"
      ]
    },
    {
      "cell_type": "code",
      "execution_count": null,
      "metadata": {},
      "outputs": [],
      "source": [
        "df_reshaped\n",
        "df_reshaped.to_csv('cl1_all_routes_data.csv')"
      ]
    }
  ],
  "metadata": {
    "colab": {
      "collapsed_sections": [],
      "name": "cleaning-routes-data.ipynb",
      "provenance": []
    },
    "kernelspec": {
      "display_name": "Python 3",
      "name": "python3"
    },
    "language_info": {
      "codemirror_mode": {
        "name": "ipython",
        "version": 3
      },
      "file_extension": ".py",
      "mimetype": "text/x-python",
      "name": "python",
      "nbconvert_exporter": "python",
      "pygments_lexer": "ipython3",
      "version": "3.10.1"
    }
  },
  "nbformat": 4,
  "nbformat_minor": 0
}
